{
 "cells": [
  {
   "cell_type": "code",
   "execution_count": null,
   "metadata": {
    "graffitiCellId": "id_yv9j4u3",
    "graffitiConfig": {
     "executeCellViaGraffiti": "mhfr8d3_9owpptc"
    }
   },
   "outputs": [],
   "source": [
    "#include <assert.h>\n",
    "#include <iostream>\n",
    "\n",
    "// TODO: Define Point class\n",
    "  // TODO: Define public constructor\n",
    "  // TODO: Define + operator overload\n",
    "  // TODO: Declare attributes x and y\n",
    "class Point{\n",
    "public:\n",
    "    int x_, y_;\n",
    "    Point(int x = 0, int y = 0): x_(x),y_(y){}\n",
    "    Point operator + (Point &a){Point s;\n",
    "                               s.x_ = x_ + a.x_;\n",
    "                               s.y_ = y_ + a.y_;\n",
    "                               return s;\n",
    "                               }\n",
    "};\n",
    "\n",
    "// Test in main()\n",
    "int main() {\n",
    "  Point p1(10, 5), p2(2, 4);\n",
    "  Point p3 = p1 + p2; // An example call to \"operator +\";\n",
    "  assert(p3.x_ == p1.x_ + p2.x_);\n",
    "  assert(p3.y_ == p1.y_ + p2.y_);\n",
    "}"
   ]
  },
  {
   "cell_type": "markdown",
   "metadata": {
    "graffitiCellId": "id_mhfr8d3"
   },
   "source": [
    "<span class=\"graffiti-highlight graffiti-id_mhfr8d3-id_9owpptc\"><i></i><button>Compile & Execute</button></span>&nbsp;\n",
    "<span class=\"graffiti-highlight graffiti-id_q257wol-id_63h9sal\"><i></i><button>Show Solution</button></span>&nbsp;\n",
    "<span class=\"graffiti-highlight graffiti-id_9tadhb3-id_iq8mg7g\"><i></i><button>Explain</button></span>"
   ]
  },
  {
   "cell_type": "markdown",
   "metadata": {
    "graffitiCellId": "id_ovjrzbc",
    "graffitiConfig": {
     "rows": 12,
     "terminalId": "id_2z0l9hr",
     "type": "terminal"
    }
   },
   "source": [
    "<i>Loading terminal (id_ovjrzbc), please wait...</i>"
   ]
  }
 ],
 "metadata": {
  "graffiti": {
   "firstAuthorId": "8978490740",
   "id": "id_itcdm0e",
   "language": "EN"
  },
  "kernelspec": {
   "display_name": "C++17",
   "language": "C++17",
   "name": "xeus-cling-cpp17"
  },
  "language_info": {
   "codemirror_mode": "text/x-c++src",
   "file_extension": ".cpp",
   "mimetype": "text/x-c++src",
   "name": "c++",
   "version": "-std=c++17"
  }
 },
 "nbformat": 4,
 "nbformat_minor": 2
}

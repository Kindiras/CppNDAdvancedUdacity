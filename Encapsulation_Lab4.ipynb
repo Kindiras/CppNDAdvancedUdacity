{
 "cells": [
  {
   "cell_type": "code",
   "execution_count": null,
   "metadata": {
    "graffitiCellId": "id_2eq82yp",
    "graffitiConfig": {
     "executeCellViaGraffiti": "66rm1m6_251f3fq"
    }
   },
   "outputs": [],
   "source": [
    "#include <cassert>\n",
    "#include <iostream>\n",
    "#include <stdexcept>\n",
    "using namespace std;\n",
    "\n",
    "// TODO: Define class Pyramid\n",
    "class Pyramid\n",
    "{\n",
    "    public:\n",
    "         Pyramid(int length, int width, int height):length_(length),height_(height),width_(width){Validate();}\n",
    "         void Length(int length);\n",
    "         void Width(int width);\n",
    "         void Height(int height);\n",
    "         int Length() const;\n",
    "         int Width() const;\n",
    "         int Height() const;\n",
    "         int Volume() const;\n",
    "    private:\n",
    "          void Validate();\n",
    "          int length_;\n",
    "          int width_;\n",
    "          int height_;\n",
    "};\n",
    "void Pyramid::Validate(){\n",
    "    if(length_<= 0|| width_<= 0 || height_<= 0)\n",
    "    throw string(\"dimension should not be negative\");\n",
    "   }\n",
    "\n",
    "void Pyramid::Length(int length){length_=length;Validate();}\n",
    "void Pyramid::Width(int width){width_=width;Validate();}\n",
    "void Pyramid::Height(int height ){height_=height;Validate();}\n",
    "int Pyramid::Length() const {return length_;}\n",
    "int Pyramid::Width() const {return width_;}\n",
    "int Pyramid::Height() const {return height_;}\n",
    "int Pyramid::Volume() const {return(length_*width_*height_/3.0);}\n",
    "// public class members\n",
    "\n",
    "// constructor\n",
    "\n",
    "// accessors\n",
    "\n",
    "// mutators\n",
    "\n",
    "// public Volume() function\n",
    "\n",
    "// private class members\n",
    "\n",
    "// Test\n",
    "int main() {\n",
    "    try{\n",
    "  Pyramid pyramid(-4, 5, 6);\n",
    "  assert(pyramid.Length() == -4);\n",
    "  assert(pyramid.Width() == 5);\n",
    "  assert(pyramid.Height() == 6);\n",
    "  cout <<\"the voluem is:\"<<pyramid.Volume()<<endl;\n",
    "    }\n",
    "    catch(string &error){\n",
    "        cout<<error<<endl;\n",
    "       }\n",
    "  return 0;\n",
    "}"
   ]
  },
  {
   "cell_type": "markdown",
   "metadata": {
    "graffitiCellId": "id_66rm1m6"
   },
   "source": [
    "<span class=\"graffiti-highlight graffiti-id_66rm1m6-id_251f3fq\"><i></i><button>Compile & Run</button></span>\n",
    "<span class=\"graffiti-highlight graffiti-id_a4lp7f3-id_1t82qn0\"><i></i><button>Explain</button></span>"
   ]
  },
  {
   "cell_type": "markdown",
   "metadata": {
    "graffitiCellId": "id_6962hjh",
    "graffitiConfig": {
     "rows": 6,
     "terminalId": "id_1smkqpj",
     "type": "terminal"
    }
   },
   "source": [
    "<i>Loading terminal (id_6962hjh), please wait...</i>"
   ]
  }
 ],
 "metadata": {
  "graffiti": {
   "firstAuthorId": "8978490740",
   "id": "id_g4m4i1f",
   "language": "EN"
  },
  "kernelspec": {
   "display_name": "C++17",
   "language": "C++17",
   "name": "xeus-cling-cpp17"
  },
  "language_info": {
   "codemirror_mode": "text/x-c++src",
   "file_extension": ".cpp",
   "mimetype": "text/x-c++src",
   "name": "c++",
   "version": "-std=c++17"
  }
 },
 "nbformat": 4,
 "nbformat_minor": 2
}

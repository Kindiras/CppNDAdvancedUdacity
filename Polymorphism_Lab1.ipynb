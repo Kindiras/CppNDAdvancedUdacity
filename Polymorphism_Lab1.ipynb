{
 "cells": [
  {
   "cell_type": "code",
   "execution_count": null,
   "metadata": {
    "graffitiCellId": "id_n4kd2q6",
    "graffitiConfig": {
     "executeCellViaGraffiti": "i3jaz0a_4gzqzu3"
    }
   },
   "outputs": [],
   "source": [
    "// Example solution for Shape inheritance\n",
    "#include <assert.h>\n",
    "#include <cmath>\n",
    "\n",
    "// TODO: Define pi\n",
    "#define PI 3.14159;\n",
    "\n",
    "// TODO: Define the abstract class Shape\n",
    "class Shape {\n",
    "public:\n",
    "  // TODO: Define public virtual functions Area() and Perimeter()\n",
    "  // TODO: Append the declarations with = 0 to specify pure virtual functions\n",
    "  virtual double Area() const = 0;\n",
    "  virtual double Perimeter() const = 0;\n",
    "};\n",
    "\n",
    "// TODO: Define Rectangle to inherit publicly from Shape\n",
    "class Rectangle : public Shape {\n",
    "public:\n",
    "  // TODO: Declare public constructor\n",
    "  Rectangle(double width, double height) : width_(width), height_(height) {}\n",
    "  // TODO: Override virtual base class functions Area() and Perimeter()\n",
    "  double Area() const override { return width_ * height_; }\n",
    "  double Perimeter() const override { return 2 * (width_ + height_); }\n",
    "\n",
    "private:\n",
    "  // TODO: Declare private attributes width and height\n",
    "  double width_;\n",
    "  double height_;\n",
    "};\n",
    "\n",
    "// TODO: Define Circle to inherit from Shape\n",
    "class Circle : public Shape {\n",
    "public:\n",
    "  // TODO: Declare public constructor\n",
    "  Circle(double radius) : radius_(radius) {}\n",
    "  // TODO: Override virtual base class functions Area() and Perimeter()\n",
    "  double Area() const override { return pow(radius_, 2) * PI; }\n",
    "  double Perimeter() const override { return 2 * radius_ * PI; }\n",
    "\n",
    "private:\n",
    "  // TODO: Declare private member variable radius\n",
    "  double radius_;\n",
    "};\n",
    "\n",
    "// Test in main()\n",
    "int main() {\n",
    "  double epsilon = 0.1; // useful for floating point equality\n",
    "\n",
    "  // Test circle\n",
    "  Circle circle(12.31);\n",
    "  assert(abs(circle.Perimeter() - 77.35) < epsilon);\n",
    "  assert(abs(circle.Area() - 476.06) < epsilon);\n",
    "\n",
    "  // Test rectangle\n",
    "  Rectangle rectangle(10, 6);\n",
    "  assert(rectangle.Perimeter() == 32);\n",
    "  assert(rectangle.Area() == 60);\n",
    "}"
   ]
  },
  {
   "cell_type": "markdown",
   "metadata": {
    "graffitiCellId": "id_i3jaz0a"
   },
   "source": [
    "<span class=\"graffiti-highlight graffiti-id_i3jaz0a-id_4gzqzu3\"><i></i><button>Compile & Execute</button></span>&nbsp;\n",
    "<span class=\"graffiti-highlight graffiti-id_ktuns04-id_tbe7zwp\"><i></i><button>Show Solution</button></span>&nbsp;\n",
    "<span class=\"graffiti-highlight graffiti-id_8qfzdn2-id_6bv88kd\"><i></i><button>Explain</button></span>"
   ]
  },
  {
   "cell_type": "markdown",
   "metadata": {
    "graffitiCellId": "id_axz5p8d",
    "graffitiConfig": {
     "rows": 12,
     "terminalId": "id_o6dpt6z",
     "type": "terminal"
    }
   },
   "source": [
    "<i>Loading terminal (id_axz5p8d), please wait...</i>"
   ]
  }
 ],
 "metadata": {
  "graffiti": {
   "firstAuthorId": "8978490740",
   "id": "id_itcdm0e",
   "language": "EN"
  },
  "kernelspec": {
   "display_name": "C++17",
   "language": "C++17",
   "name": "xeus-cling-cpp17"
  },
  "language_info": {
   "codemirror_mode": "text/x-c++src",
   "file_extension": ".cpp",
   "mimetype": "text/x-c++src",
   "name": "c++",
   "version": "-std=c++17"
  }
 },
 "nbformat": 4,
 "nbformat_minor": 2
}

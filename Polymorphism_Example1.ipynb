{
 "cells": [
  {
   "cell_type": "code",
   "execution_count": null,
   "metadata": {
    "graffitiCellId": "id_xqu75ol",
    "graffitiConfig": {
     "executeCellViaGraffiti": "htywwzb_chjzeki"
    }
   },
   "outputs": [],
   "source": [
    "#include <iostream>\n",
    "\n",
    "class Human{};\n",
    "class Dog {};\n",
    "class Cat{};\n",
    "// TODO: Write hello() function\n",
    "void hello(){std::cout<<\"Hello World \\n\";}\n",
    "void hello(class Human){std::cout<<\"Hello Human \\n\";}\n",
    "void hello(class Dog){std::cout<<\"Hello Dog \\n\";}\n",
    "void hello(class Cat){std::cout<<\"Hello Cat \\n\";}\n",
    "// TODO: Overload hello() three times\n",
    "\n",
    "// TODO: Call hello() from main()\n",
    "int main()\n",
    "{\n",
    "    hello();\n",
    "    hello(Human());\n",
    "    hello(Dog());\n",
    "    hello(Cat());\n",
    "}"
   ]
  },
  {
   "cell_type": "markdown",
   "metadata": {
    "graffitiCellId": "id_htywwzb"
   },
   "source": [
    "<span class=\"graffiti-highlight graffiti-id_htywwzb-id_chjzeki\"><i></i><button>Compile & Execute</button></span>&nbsp;\n",
    "<span class=\"graffiti-highlight graffiti-id_w3ybtsn-id_56yhft9\"><i></i><button>Explain</button></span>"
   ]
  },
  {
   "cell_type": "markdown",
   "metadata": {
    "graffitiCellId": "id_wvmjmjg",
    "graffitiConfig": {
     "rows": 12,
     "terminalId": "id_ijlsx4u",
     "type": "terminal"
    }
   },
   "source": [
    "<i>Loading terminal (id_wvmjmjg), please wait...</i>"
   ]
  }
 ],
 "metadata": {
  "graffiti": {
   "firstAuthorId": "8978490740",
   "id": "id_jnkqpsu",
   "language": "EN"
  },
  "kernelspec": {
   "display_name": "C++17",
   "language": "C++17",
   "name": "xeus-cling-cpp17"
  },
  "language_info": {
   "codemirror_mode": "text/x-c++src",
   "file_extension": ".cpp",
   "mimetype": "text/x-c++src",
   "name": "c++",
   "version": "-std=c++17"
  }
 },
 "nbformat": 4,
 "nbformat_minor": 2
}

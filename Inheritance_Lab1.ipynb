{
 "cells": [
  {
   "cell_type": "code",
   "execution_count": null,
   "metadata": {
    "graffitiCellId": "id_f0fygab",
    "graffitiConfig": {
     "executeCellViaGraffiti": "s97p0lz_yynkkrc"
    }
   },
   "outputs": [],
   "source": [
    "#include <iostream>\n",
    "#include<string>\n",
    "using namespace std;\n",
    "\n",
    "// Define base class Animal\n",
    "class Animal{\n",
    "    public:\n",
    "    string color;\n",
    "    string name;\n",
    "    int age;\n",
    "};\n",
    "\n",
    "// Declare derived class Snake\n",
    "class Snake : public Animal{\n",
    "    public:\n",
    "    int length;\n",
    "    void MakeSound() const {cout<<\"Hisssss!!!\";}\n",
    "};\n",
    "\n",
    "// Declare derived class Cat\n",
    "\n",
    "class Cat : public Animal{\n",
    "    public:\n",
    "    int height;\n",
    "    void MakeSound()const {\n",
    "        cout<<\"Mew Mew!!!!!\";\n",
    "    }\n",
    "};\n",
    "\n",
    "// Test in main()\n",
    "int main()\n",
    "{\n",
    "    Snake snake;\n",
    "    snake.name = \"Cobra\";\n",
    "    snake.length = 5;\n",
    "    Cat cat;\n",
    "    cat.name = \"Mini\";\n",
    "    cat.height = 3;\n",
    "\n",
    "    cout <<cat.name<<\" has height in inches \"<<cat.height<<\" makes sound \";\n",
    "cat.MakeSound();\n",
    "    cout<<\"\\n\";\n",
    "}"
   ]
  },
  {
   "cell_type": "markdown",
   "metadata": {
    "graffitiCellId": "id_s97p0lz"
   },
   "source": [
    "<span class=\"graffiti-highlight graffiti-id_s97p0lz-id_yynkkrc\"><i></i><button>Compile & Execute</button></span>&nbsp;\n",
    "<span class=\"graffiti-highlight graffiti-id_kwxfz3o-id_bp7z52o\"><i></i><button>Explain</button></span>"
   ]
  },
  {
   "cell_type": "markdown",
   "metadata": {
    "graffitiCellId": "id_khtvygp",
    "graffitiConfig": {
     "rows": 12,
     "terminalId": "id_bcyx8bi",
     "type": "terminal"
    }
   },
   "source": [
    "<i>Loading terminal (id_khtvygp), please wait...</i>"
   ]
  },
  {
   "cell_type": "markdown",
   "metadata": {
    "graffitiCellId": "id_19n2zug"
   },
   "source": [
    "<span class=\"graffiti-highlight graffiti-id_eaxs16z-id_6tukvgw\"><i></i><button>Hide Solution</button></span>"
   ]
  },
  {
   "cell_type": "code",
   "execution_count": null,
   "metadata": {
    "graffitiCellId": "id_6tukvgw"
   },
   "outputs": [],
   "source": [
    "// Example solution for Animal class\n",
    "#include <iostream>\n",
    "#include <string>\n",
    "\n",
    "// Define base class Animal\n",
    "class Animal {\n",
    "public:\n",
    "    std::string color;\n",
    "    std::string name;\n",
    "    int age;\n",
    "};\n",
    "\n",
    "// Declare derived class Snake\n",
    "class Snake : public Animal {\n",
    "public:\n",
    "    int length;\n",
    "    \n",
    "    void MakeSound() const\n",
    "    {\n",
    "        std::cout << \"Hiss\\n\";\n",
    "    }\n",
    "};\n",
    "\n",
    "// Declare derived class Cat\n",
    "class Cat : public Animal {\n",
    "public:\n",
    "    int height;\n",
    "\n",
    "    void MakeSound() const\n",
    "    {\n",
    "        std::cout << \"Meow\\n\";\n",
    "    }\n",
    "};\n",
    "\n",
    "// Test in main()\n",
    "int main() {\n",
    "\n",
    "    Cat cat;\n",
    "    Snake snake;\n",
    "\n",
    "    cat.age = 10;\n",
    "    cat.name = \"Lucy\";\n",
    "    cat.MakeSound();\n",
    "    snake.MakeSound();\n",
    "\n",
    "    std::cout << cat.age << \" \" << cat.name << \"\\n\";\n",
    "}"
   ]
  }
 ],
 "metadata": {
  "graffiti": {
   "firstAuthorId": "8978490740",
   "id": "id_xnc2lo4",
   "language": "EN"
  },
  "kernelspec": {
   "display_name": "C++17",
   "language": "C++17",
   "name": "xeus-cling-cpp17"
  },
  "language_info": {
   "codemirror_mode": "text/x-c++src",
   "file_extension": ".cpp",
   "mimetype": "text/x-c++src",
   "name": "c++",
   "version": "-std=c++17"
  }
 },
 "nbformat": 4,
 "nbformat_minor": 2
}

{
 "cells": [
  {
   "cell_type": "code",
   "execution_count": null,
   "metadata": {
    "graffitiCellId": "id_rqbwpk6",
    "graffitiConfig": {
     "executeCellViaGraffiti": "oz2wdh8_8xclgqa"
    }
   },
   "outputs": [],
   "source": [
    "#include <assert.h>\n",
    "#include <iostream>\n",
    "\n",
    "// TODO: Declare a generic, templatized function Max()\n",
    "template <class T> class Operatortest{\n",
    "public:\n",
    "    T Max(T x, T y){return (x < y ? y:x);}\n",
    "    T Min(T x, T y){return (x < y ? x:y);}\n",
    "    \n",
    "}; \n",
    "int main() {\n",
    "  Operatortest<int> test;\n",
    "  Operatortest<double> testfloat;\n",
    "  assert(test.Max(10, 50) == 50);\n",
    "  assert(testfloat.Max(5.7, 1.436246) == 5.7);\n",
    "  assert(test.Min(10, 50) == 10);\n",
    "  assert(testfloat.Min(14.33, 59.35) == 14.33);\n",
    "}"
   ]
  },
  {
   "cell_type": "markdown",
   "metadata": {
    "graffitiCellId": "id_oz2wdh8"
   },
   "source": [
    "<span class=\"graffiti-highlight graffiti-id_oz2wdh8-id_8xclgqa\"><i></i><button>Compile & Execute</button></span>&nbsp;\n",
    "<span class=\"graffiti-highlight graffiti-id_8ku85i4-id_hws956a\"><i></i><button>Explain</button></span>"
   ]
  },
  {
   "cell_type": "markdown",
   "metadata": {
    "graffitiCellId": "id_87qqzi7",
    "graffitiConfig": {
     "rows": 12,
     "terminalId": "id_0pt4zk8",
     "type": "terminal"
    }
   },
   "source": [
    "<i>Loading terminal (id_87qqzi7), please wait...</i>"
   ]
  }
 ],
 "metadata": {
  "graffiti": {
   "firstAuthorId": "8978490740",
   "id": "id_x03qg55",
   "language": "EN"
  },
  "kernelspec": {
   "display_name": "C++17",
   "language": "C++17",
   "name": "xeus-cling-cpp17"
  },
  "language_info": {
   "codemirror_mode": "text/x-c++src",
   "file_extension": ".cpp",
   "mimetype": "text/x-c++src",
   "name": "c++",
   "version": "-std=c++17"
  }
 },
 "nbformat": 4,
 "nbformat_minor": 2
}

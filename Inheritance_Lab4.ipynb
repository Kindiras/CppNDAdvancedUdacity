{
 "cells": [
  {
   "cell_type": "code",
   "execution_count": null,
   "metadata": {
    "graffitiCellId": "id_m771xns",
    "graffitiConfig": {
     "executeCellViaGraffiti": "th9wgfb_gy3pmfr"
    }
   },
   "outputs": [],
   "source": [
    "#include <cassert>\n",
    "#include <iostream>\n",
    "#include <string>\n",
    "using namespace std;\n",
    "\n",
    "// TODO: Declare Vehicle as the base class\n",
    "class Vehicle{\n",
    "public:\n",
    "    string color = \"red\";\n",
    "};\n",
    "\n",
    "// TODO: Derive Car from Vehicle\n",
    "\n",
    "class Car:public Vehicle{\n",
    "public:\n",
    "    int wheels = 4;\n",
    "};\n",
    "\n",
    "// TODO: Derive Sedan from Car\n",
    "class Sedan:public Car{\n",
    "public:\n",
    "    int seats;\n",
    "};\n",
    "\n",
    "\n",
    "// TODO: Update main to pass the tests\n",
    "int main() {\n",
    "    Sedan sedan;\n",
    "    sedan.seats = 4;\n",
    "    //sedan.color = \"silver\";\n",
    "    sedan.wheels = 4;\n",
    "    cout<<\"Sedan has color \" <<sedan.color<<\" has wheels \" <<sedan.wheels <<\" and seats \"<<sedan.seats<<endl;\n",
    "  //assert(sedan.trunk == true);\n",
    "  //assert(sedan.seats == 4);\n",
    "  //assert(sedan.wheels == 4);\n",
    "}"
   ]
  },
  {
   "cell_type": "markdown",
   "metadata": {
    "graffitiCellId": "id_th9wgfb"
   },
   "source": [
    "<span class=\"graffiti-highlight graffiti-id_th9wgfb-id_gy3pmfr\"><i></i><button>Compile & Execute</button></span>&nbsp;\n",
    "<span class=\"graffiti-highlight graffiti-id_ezcqia6-id_odnbevv\"><i></i><button>Explain</button></span>"
   ]
  },
  {
   "cell_type": "markdown",
   "metadata": {
    "graffitiCellId": "id_dssp0q5",
    "graffitiConfig": {
     "rows": 12,
     "terminalId": "id_ak02clh",
     "type": "terminal"
    }
   },
   "source": [
    "<i>Loading terminal (id_dssp0q5), please wait...</i>"
   ]
  }
 ],
 "metadata": {
  "graffiti": {
   "firstAuthorId": "8978490740",
   "id": "id_xnc2lo4",
   "language": "EN"
  },
  "kernelspec": {
   "display_name": "C++17",
   "language": "C++17",
   "name": "xeus-cling-cpp17"
  },
  "language_info": {
   "codemirror_mode": "text/x-c++src",
   "file_extension": ".cpp",
   "mimetype": "text/x-c++src",
   "name": "c++",
   "version": "-std=c++17"
  }
 },
 "nbformat": 4,
 "nbformat_minor": 2
}
